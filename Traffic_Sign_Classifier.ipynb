{
 "cells": [
  {
   "cell_type": "markdown",
   "metadata": {},
   "source": [
    "# Self-Driving Car Engineer Nanodegree\n",
    "\n",
    "## Deep Learning\n",
    "\n",
    "## Project: Build a Traffic Sign Recognition Classifier\n",
    "\n",
    "In this notebook, a template is provided for you to implement your functionality in stages, which is required to successfully complete this project. If additional code is required that cannot be included in the notebook, be sure that the Python code is successfully imported and included in your submission if necessary. \n",
    "\n",
    "> **Note**: Once you have completed all of the code implementations, you need to finalize your work by exporting the iPython Notebook as an HTML document. Before exporting the notebook to html, all of the code cells need to have been run so that reviewers can see the final implementation and output. You can then export the notebook by using the menu above and navigating to  \\n\",\n",
    "    \"**File -> Download as -> HTML (.html)**. Include the finished document along with this notebook as your submission. \n",
    "\n",
    "In addition to implementing code, there is a writeup to complete. The writeup should be completed in a separate file, which can be either a markdown file or a pdf document. There is a [write up template](https://github.com/udacity/CarND-Traffic-Sign-Classifier-Project/blob/master/writeup_template.md) that can be used to guide the writing process. Completing the code template and writeup template will cover all of the [rubric points](https://review.udacity.com/#!/rubrics/481/view) for this project.\n",
    "\n",
    "The [rubric](https://review.udacity.com/#!/rubrics/481/view) contains \"Stand Out Suggestions\" for enhancing the project beyond the minimum requirements. The stand out suggestions are optional. If you decide to pursue the \"stand out suggestions\", you can include the code in this Ipython notebook and also discuss the results in the writeup file.\n",
    "\n",
    "\n",
    ">**Note:** Code and Markdown cells can be executed using the **Shift + Enter** keyboard shortcut. In addition, Markdown cells can be edited by typically double-clicking the cell to enter edit mode."
   ]
  },
  {
   "cell_type": "markdown",
   "metadata": {},
   "source": [
    "---\n",
    "## Step 0: Load The Data"
   ]
  },
  {
   "cell_type": "code",
   "execution_count": 1,
   "metadata": {},
   "outputs": [],
   "source": [
    "# Load pickled data\n",
    "import pickle\n",
    "\n",
    "# TODO: Fill this in based on where you saved the training and testing data\n",
    "\n",
    "training_file = \"../data/train.p\"\n",
    "validation_file = \"../data/valid.p\"\n",
    "testing_file = \"../data/test.p\"\n",
    "\n",
    "with open(training_file, mode='rb') as f:\n",
    "    train = pickle.load(f)\n",
    "with open(validation_file, mode='rb') as f:\n",
    "    valid = pickle.load(f)\n",
    "with open(testing_file, mode='rb') as f:\n",
    "    test = pickle.load(f)\n",
    "    \n",
    "X_train, y_train = train['features'], train['labels']\n",
    "X_valid, y_valid = valid['features'], valid['labels']\n",
    "X_test, y_test = test['features'], test['labels']"
   ]
  },
  {
   "cell_type": "code",
   "execution_count": 2,
   "metadata": {},
   "outputs": [],
   "source": [
    "# Load sign names from CSV file\n",
    "import pandas as pd\n",
    "filename = 'signnames.csv'\n",
    "sign_names = pd.read_csv(filename, header=0)\n",
    "sign_names = sign_names.SignName.tolist()\n",
    "#print(sign_names)"
   ]
  },
  {
   "cell_type": "markdown",
   "metadata": {},
   "source": [
    "---\n",
    "\n",
    "## Step 1: Dataset Summary & Exploration\n",
    "\n",
    "The pickled data is a dictionary with 4 key/value pairs:\n",
    "\n",
    "- `'features'` is a 4D array containing raw pixel data of the traffic sign images, (num examples, width, height, channels).\n",
    "- `'labels'` is a 1D array containing the label/class id of the traffic sign. The file `signnames.csv` contains id -> name mappings for each id.\n",
    "- `'sizes'` is a list containing tuples, (width, height) representing the original width and height the image.\n",
    "- `'coords'` is a list containing tuples, (x1, y1, x2, y2) representing coordinates of a bounding box around the sign in the image. **THESE COORDINATES ASSUME THE ORIGINAL IMAGE. THE PICKLED DATA CONTAINS RESIZED VERSIONS (32 by 32) OF THESE IMAGES**\n",
    "\n",
    "Complete the basic data summary below. Use python, numpy and/or pandas methods to calculate the data summary rather than hard coding the results. For example, the [pandas shape method](http://pandas.pydata.org/pandas-docs/stable/generated/pandas.DataFrame.shape.html) might be useful for calculating some of the summary results. "
   ]
  },
  {
   "cell_type": "markdown",
   "metadata": {},
   "source": [
    "### Provide a Basic Summary of the Data Set Using Python, Numpy and/or Pandas"
   ]
  },
  {
   "cell_type": "code",
   "execution_count": 3,
   "metadata": {},
   "outputs": [
    {
     "name": "stdout",
     "output_type": "stream",
     "text": [
      "Number of training examples = 34799\n",
      "Number of testing examples = 12630\n",
      "Number of validation examples = 4410\n",
      "Image data shape = (32, 32)\n",
      "Number of classes = 43\n"
     ]
    }
   ],
   "source": [
    "### Replace each question mark with the appropriate value. \n",
    "### Use python, pandas or numpy methods rather than hard coding the results\n",
    "\n",
    "# TODO: Number of training examples\n",
    "n_train = X_train.shape[0]\n",
    "\n",
    "# TODO: Number of validation examples\n",
    "n_validation = X_valid.shape[0]\n",
    "\n",
    "# TODO: Number of testing examples.\n",
    "n_test = X_test.shape[0]\n",
    "\n",
    "# TODO: What's the shape of an traffic sign image?\n",
    "image_shape = X_train.shape[1:3]\n",
    "\n",
    "# TODO: How many unique classes/labels there are in the dataset.\n",
    "n_classes = len(pd.unique(y_train))\n",
    "\n",
    "print(\"Number of training examples =\", n_train)\n",
    "print(\"Number of testing examples =\", n_test)\n",
    "print(\"Number of validation examples =\", n_validation)\n",
    "print(\"Image data shape =\", image_shape)\n",
    "print(\"Number of classes =\", n_classes)"
   ]
  },
  {
   "cell_type": "markdown",
   "metadata": {},
   "source": [
    "### Include an exploratory visualization of the dataset"
   ]
  },
  {
   "cell_type": "markdown",
   "metadata": {},
   "source": [
    "Visualize the German Traffic Signs Dataset using the pickled file(s). This is open ended, suggestions include: plotting traffic sign images, plotting the count of each sign, etc. \n",
    "\n",
    "The [Matplotlib](http://matplotlib.org/) [examples](http://matplotlib.org/examples/index.html) and [gallery](http://matplotlib.org/gallery.html) pages are a great resource for doing visualizations in Python.\n",
    "\n",
    "**NOTE:** It's recommended you start with something simple first. If you wish to do more, come back to it after you've completed the rest of the sections. It can be interesting to look at the distribution of classes in the training, validation and test set. Is the distribution the same? Are there more examples of some classes than others?"
   ]
  },
  {
   "cell_type": "code",
   "execution_count": 4,
   "metadata": {},
   "outputs": [],
   "source": [
    "### Data exploration visualization code goes here.\n",
    "### Feel free to use as many code cells as needed.\n",
    "import random\n",
    "\n",
    "import matplotlib.pyplot as plt\n",
    "# Visualizations will be shown in the notebook.\n",
    "%matplotlib inline"
   ]
  },
  {
   "cell_type": "code",
   "execution_count": 5,
   "metadata": {},
   "outputs": [
    {
     "name": "stdout",
     "output_type": "stream",
     "text": [
      "Random training dataset image:\n",
      "Label: 28 (Children crossing)\n"
     ]
    },
    {
     "data": {
      "image/png": "[encoded data removed]",
      "text/plain": [
       "<Figure size 72x72 with 1 Axes>"
      ]
     },
     "metadata": {
      "needs_background": "light"
     },
     "output_type": "display_data"
    }
   ],
   "source": [
    "# Visualize a random image from the training data set\n",
    "index = random.randint(0, len(X_train))\n",
    "image = X_train[index].squeeze()\n",
    "plt.figure(figsize=(1,1))\n",
    "plt.imshow(image, cmap=\"gray\")\n",
    "print(\"Random training dataset image:\")\n",
    "print(\"Label: {} ({})\".format(y_train[index], sign_names[y_train[index]]))"
   ]
  },
  {
   "cell_type": "code",
   "execution_count": 6,
   "metadata": {},
   "outputs": [
    {
     "name": "stdout",
     "output_type": "stream",
     "text": [
      "Random validation dataset image:\n",
      "Label: 35 (Ahead only)\n"
     ]
    },
    {
     "data": {
      "image/png": "[encoded data removed]",
      "text/plain": [
       "<Figure size 72x72 with 1 Axes>"
      ]
     },
     "metadata": {
      "needs_background": "light"
     },
     "output_type": "display_data"
    }
   ],
   "source": [
    "# Visualize a random image from the validation data set\n",
    "index = random.randint(0, len(X_valid))\n",
    "image2 = X_valid[index].squeeze()\n",
    "plt.figure(figsize=(1,1))\n",
    "plt.imshow(image2)\n",
    "print(\"Random validation dataset image:\")\n",
    "print(\"Label: {} ({})\".format(y_valid[index], sign_names[y_valid[index]]))"
   ]
  },
  {
   "cell_type": "code",
   "execution_count": 7,
   "metadata": {},
   "outputs": [
    {
     "data": {
      "image/png": "[encoded data removed]",
      "text/plain": [
       "<Figure size 432x288 with 1 Axes>"
      ]
     },
     "metadata": {
      "needs_background": "light"
     },
     "output_type": "display_data"
    },
    {
     "name": "stdout",
     "output_type": "stream",
     "text": [
      "Training data label with the most images: 2, count: 2010\n",
      "Training data label with the fewest images: 0, count:180\n"
     ]
    }
   ],
   "source": [
    "import numpy as np\n",
    "# Plot a histogram of the frequency of each label in the training data set\n",
    "fig, ax = plt.subplots()\n",
    "hist, bins = np.histogram(y_train, bins=n_classes)\n",
    "width = 0.7*(bins[1] - bins[0])\n",
    "center = (bins[:1] + bins[1:])\n",
    "plt.bar(center, hist, align='center', width=width)\n",
    "plt.title(\"Training Dataset Label Frequency\")\n",
    "plt.xlabel(\"Label\")\n",
    "plt.ylabel(\"Frequency\")\n",
    "plt.show()\n",
    "#fig.savefig(\"output_images/training_data_hist.png\")\n",
    "\n",
    "#Display minimum and maximum labels\n",
    "print(\"Training data label with the most images: {}, count: {}\".format(np.argmax(hist), np.max(hist)))\n",
    "print(\"Training data label with the fewest images: {}, count:{}\".format(np.argmin(hist), np.min(hist)))"
   ]
  },
  {
   "cell_type": "code",
   "execution_count": 8,
   "metadata": {},
   "outputs": [
    {
     "data": {
      "image/png": "[encoded data removed]",
      "text/plain": [
       "<Figure size 432x288 with 1 Axes>"
      ]
     },
     "metadata": {
      "needs_background": "light"
     },
     "output_type": "display_data"
    },
    {
     "name": "stdout",
     "output_type": "stream",
     "text": [
      "Validation data label with the most images: 1, count: 240\n",
      "Validation data label with the fewest images: 0, count:30\n"
     ]
    }
   ],
   "source": [
    "# Plot a histogram of the frequency of each label in the validation data set\n",
    "fig, ax = plt.subplots()\n",
    "hist2, bins = np.histogram(y_valid, bins=n_classes)\n",
    "width = 0.7*(bins[1] - bins[0])\n",
    "center = (bins[:1] + bins[1:])\n",
    "plt.bar(center, hist2, align='center', width=width)\n",
    "plt.title(\"Initial Validation Dataset Label Frequency\")\n",
    "plt.xlabel(\"Label\")\n",
    "plt.ylabel(\"Frequency\")\n",
    "plt.show()\n",
    "#fig.savefig(\"output_images/valid_data_hist.png\")\n",
    "\n",
    "#Display minimum and maximum labels\n",
    "print(\"Validation data label with the most images: {}, count: {}\".format(np.argmax(hist2), np.max(hist2)))\n",
    "print(\"Validation data label with the fewest images: {}, count:{}\".format(np.argmin(hist2), np.min(hist2)))"
   ]
  },
  {
   "cell_type": "code",
   "execution_count": 9,
   "metadata": {},
   "outputs": [
    {
     "data": {
      "image/png": "[encoded data removed]",
      "text/plain": [
       "<Figure size 432x288 with 1 Axes>"
      ]
     },
     "metadata": {
      "needs_background": "light"
     },
     "output_type": "display_data"
    },
    {
     "name": "stdout",
     "output_type": "stream",
     "text": [
      "Test data label with the most images: 2, count: 750\n",
      "Test data label with the fewest images: 0, count:60\n"
     ]
    }
   ],
   "source": [
    "# Plot a histogram of the frequency of each label in the test data set\n",
    "fig, ax = plt.subplots()\n",
    "hist3, bins = np.histogram(y_test, bins=n_classes)\n",
    "width = 0.7*(bins[1] - bins[0])\n",
    "center = (bins[:1] + bins[1:])\n",
    "plt.bar(center, hist3, align='center', width=width)\n",
    "plt.title(\"Test Dataset Label Frequency\")\n",
    "plt.xlabel(\"Label\")\n",
    "plt.ylabel(\"Frequency\")\n",
    "plt.show()\n",
    "#fig.savefig(\"output_images/test_data_hist.png\")\n",
    "\n",
    "#Display minimum and maximum labels\n",
    "print(\"Test data label with the most images: {}, count: {}\".format(np.argmax(hist3), np.max(hist3)))\n",
    "print(\"Test data label with the fewest images: {}, count:{}\".format(np.argmin(hist3), np.min(hist3)))"
   ]
  },
  {
   "cell_type": "markdown",
   "metadata": {},
   "source": [
    "----\n",
    "\n",
    "## Step 2: Design and Test a Model Architecture\n",
    "\n",
    "Design and implement a deep learning model that learns to recognize traffic signs. Train and test your model on the [German Traffic Sign Dataset](http://benchmark.ini.rub.de/?section=gtsrb&subsection=dataset).\n",
    "\n",
    "The LeNet-5 implementation shown in the [classroom](https://classroom.udacity.com/nanodegrees/nd013/parts/fbf77062-5703-404e-b60c-95b78b2f3f9e/modules/6df7ae49-c61c-4bb2-a23e-6527e69209ec/lessons/601ae704-1035-4287-8b11-e2c2716217ad/concepts/d4aca031-508f-4e0b-b493-e7b706120f81) at the end of the CNN lesson is a solid starting point. You'll have to change the number of classes and possibly the preprocessing, but aside from that it's plug and play! \n",
    "\n",
    "With the LeNet-5 solution from the lecture, you should expect a validation set accuracy of about 0.89. To meet specifications, the validation set accuracy will need to be at least 0.93. It is possible to get an even higher accuracy, but 0.93 is the minimum for a successful project submission. \n",
    "\n",
    "There are various aspects to consider when thinking about this problem:\n",
    "\n",
    "- Neural network architecture (is the network over or underfitting?)\n",
    "- Play around preprocessing techniques (normalization, rgb to grayscale, etc)\n",
    "- Number of examples per label (some have more than others).\n",
    "- Generate fake data.\n",
    "\n",
    "Here is an example of a [published baseline model on this problem](http://yann.lecun.com/exdb/publis/pdf/sermanet-ijcnn-11.pdf). It's not required to be familiar with the approach used in the paper but, it's good practice to try to read papers like these."
   ]
  },
  {
   "cell_type": "markdown",
   "metadata": {},
   "source": [
    "### Pre-process the Data Set (normalization, grayscale, etc.)"
   ]
  },
  {
   "cell_type": "markdown",
   "metadata": {},
   "source": [
    "Minimally, the image data should be normalized so that the data has mean zero and equal variance. For image data, `(pixel - 128)/ 128` is a quick way to approximately normalize the data and can be used in this project. \n",
    "\n",
    "Other pre-processing steps are optional. You can try different techniques to see if it improves performance. \n",
    "\n",
    "Use the code cell (or multiple code cells, if necessary) to implement the first step of your project."
   ]
  },
  {
   "cell_type": "code",
   "execution_count": 10,
   "metadata": {},
   "outputs": [],
   "source": [
    "### Preprocess the data here. It is required to normalize the data. Other preprocessing steps could include \n",
    "### converting to grayscale, etc.\n",
    "### Feel free to use as many code cells as needed.\n",
    "\n"
   ]
  },
  {
   "cell_type": "code",
   "execution_count": 11,
   "metadata": {},
   "outputs": [],
   "source": [
    "# Make copies of tne training data set to work with\n",
    "X_train_augmented = np.copy(X_train)\n",
    "y_train_augmented = np.copy(y_train)\n",
    "\n",
    "def augment_training_dataset(X_train_augment, augment_X, y_train_augment, augment_y):\n",
    "    X_train_augment = np.concatenate((X_train_augment, augment_X), axis=0)\n",
    "    y_train_augment = np.concatenate((y_train_augment, augment_y), axis=0)\n",
    "    print(\"New training set shape: {}, Label Count: {}\".format(X_train_augment.shape, \n",
    "                                                               y_train_augment.shape[0]))\n",
    "    return X_train_augment, y_train_augment    "
   ]
  },
  {
   "cell_type": "code",
   "execution_count": 12,
   "metadata": {
    "scrolled": false
   },
   "outputs": [
    {
     "name": "stdout",
     "output_type": "stream",
     "text": [
      "New training set shape: (69598, 32, 32, 3), Label Count: 69598\n",
      "X_train_augmented Shape: (69598, 32, 32, 3)\n",
      "y_train_augmented Shape: (69598,)\n",
      "New X_train shape: (69598, 32, 32, 3)\n",
      "\n",
      "Example Grayscale Image:\n",
      "Label: 41 (End of no passing)\n"
     ]
    },
    {
     "data": {
      "image/png": "[encoded data removed]",
      "text/plain": [
       "<Figure size 432x288 with 1 Axes>"
      ]
     },
     "metadata": {
      "needs_background": "light"
     },
     "output_type": "display_data"
    }
   ],
   "source": [
    "# Convert images to grayscale\n",
    "import cv2\n",
    "\n",
    "def generate_grayscale(image_data):\n",
    "    gray_images = []\n",
    "    for img in image_data:\n",
    "        gray_img = cv2.cvtColor(img, cv2.COLOR_RGB2GRAY)\n",
    "        gray_img = np.stack((gray_img,)*3, axis=-1)\n",
    "        gray_images.append(gray_img)\n",
    "    \n",
    "    return np.array(gray_images)\n",
    "     \n",
    "X_train_gray = generate_grayscale(X_train)\n",
    "#plt.imsave('output_images/gray.png', X_train_gray[0], cmap='gray')\n",
    "\n",
    "# Augment grayscaled, normalized images into X_train dataset\n",
    "X_train_augmented, y_train_augmented = augment_training_dataset(X_train_augmented,\n",
    "                                                                X_train_gray, \n",
    "                                                                y_train_augmented, \n",
    "                                                                y_train_augmented)\n",
    "\n",
    "print(\"X_train_augmented Shape: {}\".format(X_train_augmented.shape))\n",
    "print(\"y_train_augmented Shape: {}\".format(y_train_augmented.shape))\n",
    "print(\"New X_train shape: {}\".format(X_train_augmented.shape))\n",
    "\n",
    "idx = 1\n",
    "plt.imshow(X_train_gray[idx], cmap='gray')\n",
    "print()\n",
    "print(\"Example Grayscale Image:\")\n",
    "print(\"Label: {} ({})\".format(y_train[idx], sign_names[y_train[idx]]))"
   ]
  },
  {
   "cell_type": "code",
   "execution_count": 13,
   "metadata": {},
   "outputs": [
    {
     "name": "stdout",
     "output_type": "stream",
     "text": [
      "(69598, 32, 32, 3)\n",
      "Scaled Images Shape: (69598, 32, 32, 3)\n",
      "(69598, 32, 32, 3)\n",
      "New training set shape: (139196, 32, 32, 3), Label Count: 139196\n",
      "X_train_augmented Shape: (139196, 32, 32, 3)\n",
      "y_train_augmented Shape: (139196,)\n"
     ]
    }
   ],
   "source": [
    "def generate_random_scaled_images(image_data):\n",
    "    rows,cols,_ = image_data[0].shape\n",
    "    scaled_images = []\n",
    "    \n",
    "    for img in image_data:    \n",
    "        # transform limits\n",
    "        px = np.random.randint(-2,2)\n",
    "\n",
    "        # ending locations\n",
    "        pts1 = np.float32([[px,px],[rows-px,px],[px,cols-px],[rows-px,cols-px]])\n",
    "\n",
    "        # starting locations (4 corners)\n",
    "        pts2 = np.float32([[0,0],[rows,0],[0,cols],[rows,cols]])\n",
    "\n",
    "        M = cv2.getPerspectiveTransform(pts1,pts2)\n",
    "\n",
    "        dst = cv2.warpPerspective(img,M,(rows,cols))\n",
    "    \n",
    "        scaled_images.append(dst)\n",
    "        \n",
    "    scaled_images = np.array(scaled_images)\n",
    "    \n",
    "    print(\"Scaled Images Shape: {}\".format(scaled_images.shape))\n",
    "    return scaled_images\n",
    "\n",
    "print(X_train_augmented.shape)\n",
    "X_train_scaled = generate_random_scaled_images(X_train_augmented)\n",
    "print(X_train_scaled.shape)\n",
    "\n",
    "# Augment random scaled images into X_train dataset\n",
    "X_train_augmented, y_train_augmented = augment_training_dataset(X_train_augmented,\n",
    "                                                                X_train_scaled, \n",
    "                                                                y_train_augmented, \n",
    "                                                                y_train_augmented)\n",
    "\n",
    "print(\"X_train_augmented Shape: {}\".format(X_train_augmented.shape))\n",
    "print(\"y_train_augmented Shape: {}\".format(y_train_augmented.shape))"
   ]
  },
  {
   "cell_type": "code",
   "execution_count": 14,
   "metadata": {},
   "outputs": [
    {
     "data": {
      "text/plain": [
       "<matplotlib.image.AxesImage at 0x215579e9cc0>"
      ]
     },
     "execution_count": 14,
     "metadata": {},
     "output_type": "execute_result"
    },
    {
     "data": {
      "image/png": "[encoded data removed]",
      "text/plain": [
       "<Figure size 432x288 with 1 Axes>"
      ]
     },
     "metadata": {
      "needs_background": "light"
     },
     "output_type": "display_data"
    }
   ],
   "source": [
    "plt.imshow(X_train_gray[5])"
   ]
  },
  {
   "cell_type": "code",
   "execution_count": 15,
   "metadata": {},
   "outputs": [
    {
     "data": {
      "text/plain": [
       "<matplotlib.image.AxesImage at 0x21548a695f8>"
      ]
     },
     "execution_count": 15,
     "metadata": {},
     "output_type": "execute_result"
    },
    {
     "data": {
      "image/png": "[encoded data removed]",
      "text/plain": [
       "<Figure size 432x288 with 1 Axes>"
      ]
     },
     "metadata": {
      "needs_background": "light"
     },
     "output_type": "display_data"
    }
   ],
   "source": [
    "plt.imshow(X_train_scaled[5])"
   ]
  },
  {
   "cell_type": "code",
   "execution_count": 16,
   "metadata": {},
   "outputs": [
    {
     "name": "stdout",
     "output_type": "stream",
     "text": [
      "Translated images shape: (139196, 32, 32, 3)\n",
      "New training set shape: (278392, 32, 32, 3), Label Count: 278392\n"
     ]
    }
   ],
   "source": [
    "def generate_random_translated_images(image_data):\n",
    "    rows,cols,_ = image_data[0].shape\n",
    "    translated_images = []\n",
    "    \n",
    "    for img in image_data:    \n",
    "    # Randomly translate image up to px_cnt pixels in x and y directions\n",
    "        px_cnt = 3\n",
    "        dx,dy = np.random.randint(-px_cnt,px_cnt,2)\n",
    "\n",
    "        M = np.float32([[1,0,dx],[0,1,dy]])\n",
    "        dst = cv2.warpAffine(img,M,(cols,rows))\n",
    "    \n",
    "        dst = dst[:,:,np.newaxis]\n",
    "        translated_images.append(dst)\n",
    "        \n",
    "    translated_images = np.array(translated_images).squeeze()\n",
    "    return translated_images\n",
    "\n",
    "X_train_translated = generate_random_translated_images(X_train_augmented)\n",
    "print(\"Translated images shape: {}\".format(X_train_translated.shape))\n",
    "\n",
    "X_train_augmented, y_train_augmented = augment_training_dataset(X_train_augmented,\n",
    "                                                                X_train_translated, \n",
    "                                                                y_train_augmented, \n",
    "                                                                y_train_augmented)"
   ]
  },
  {
   "cell_type": "code",
   "execution_count": 17,
   "metadata": {},
   "outputs": [
    {
     "name": "stdout",
     "output_type": "stream",
     "text": [
      "Example Translated Image:\n",
      "\n",
      "Label: Road work\n"
     ]
    },
    {
     "data": {
      "text/plain": [
       "<matplotlib.image.AxesImage at 0x21548ac87f0>"
      ]
     },
     "execution_count": 17,
     "metadata": {},
     "output_type": "execute_result"
    },
    {
     "data": {
      "image/png": "[encoded data removed]",
      "text/plain": [
       "<Figure size 432x288 with 1 Axes>"
      ]
     },
     "metadata": {
      "needs_background": "light"
     },
     "output_type": "display_data"
    }
   ],
   "source": [
    "# Show an example translated image\n",
    "print(\"Example Translated Image:\")\n",
    "idx = np.random.randint(0, X_train_translated.shape[0])\n",
    "print()\n",
    "print(\"Label: {}\".format(sign_names[y_train_augmented[idx]]))\n",
    "plt.imshow(X_train_translated[idx])"
   ]
  },
  {
   "cell_type": "code",
   "execution_count": 18,
   "metadata": {},
   "outputs": [],
   "source": [
    "# Normalize the images\n",
    "def normalize_images(image_data):\n",
    "    return ((image_data / 127.5) - 1)\n",
    "\n",
    "X_train_augmented_norm = normalize_images(X_train_augmented)\n",
    "X_test_norm = normalize_images(X_test)\n",
    "X_valid_norm = normalize_images(X_valid)"
   ]
  },
  {
   "cell_type": "code",
   "execution_count": 19,
   "metadata": {},
   "outputs": [
    {
     "name": "stdout",
     "output_type": "stream",
     "text": [
      "Initial training dataset shape: (278392, 32, 32, 3)\n",
      "Split training dataset shape: (222713, 32, 32, 3)\n",
      "New validation dataset shape: (55679, 32, 32, 3)\n",
      "Test dataset shape: (12630, 32, 32, 3)\n",
      "Updated image shape: (32, 32, 3)\n"
     ]
    }
   ],
   "source": [
    "# Split a larger portion of the training set for validation dataset augmentation\n",
    "\n",
    "import numpy as np\n",
    "from sklearn.model_selection import train_test_split\n",
    "from sklearn.utils import shuffle\n",
    "print(\"Initial training dataset shape: {}\".format(X_train_augmented.shape))\n",
    "\n",
    "# Shuffle the images before splitting out a validation set from the training data\n",
    "X_train_augmented_norm, y_train_augmented = shuffle(X_train_augmented_norm, y_train_augmented)\n",
    "\n",
    "X_train_augmented_norm, X_validation_norm, y_train_augmented, y_validation = train_test_split(X_train_augmented_norm, y_train_augmented, test_size=0.20, random_state=0)\n",
    "print(\"Split training dataset shape: {}\".format(X_train_augmented_norm.shape))\n",
    "print(\"New validation dataset shape: {}\".format(X_validation_norm.shape))\n",
    "print(\"Test dataset shape: {}\".format(X_test.shape))\n",
    "print(\"Updated image shape: {}\".format(X_train[0].shape))"
   ]
  },
  {
   "cell_type": "markdown",
   "metadata": {},
   "source": [
    "### Model Architecture"
   ]
  },
  {
   "cell_type": "code",
   "execution_count": 20,
   "metadata": {},
   "outputs": [],
   "source": [
    "### Define your architecture here.\n",
    "### Feel free to use as many code cells as needed.\n",
    "import tensorflow as tf\n",
    "\n",
    "EPOCHS = 30\n",
    "BATCH_SIZE = 128"
   ]
  },
  {
   "cell_type": "code",
   "execution_count": 21,
   "metadata": {},
   "outputs": [],
   "source": [
    "from tensorflow.contrib.layers import flatten\n",
    "\n",
    "def LeNet(x, keep_prob):    \n",
    "    # Arguments used for tf.truncated_normal, randomly defines variables for the weights and biases for each layer\n",
    "    mu = 0\n",
    "    sigma = 0.08\n",
    "    \n",
    "    # TODO: Layer 1: Convolutional. Input = 32x32x3. Output = 28x28x6.\n",
    "    l1_weights = tf.Variable(tf.truncated_normal([5, 5, 3, 6], mean=mu, stddev=sigma))\n",
    "    l1_biases = tf.Variable(tf.zeros(6))\n",
    "    conv_layer_1 = tf.nn.conv2d(x, l1_weights, strides=[1, 1, 1, 1], padding='VALID')\n",
    "    conv_layer_1 = tf.nn.bias_add(conv_layer_1, l1_biases)\n",
    "\n",
    "    # TODO: Activation.\n",
    "    conv_layer_1 = tf.nn.relu(conv_layer_1)\n",
    "    #conv_layer_1 = tf.nn.dropout(conv_layer_1, keep_prob)    \n",
    "    \n",
    "    # TODO: Pooling. Input = 28x28x6. Output = 14x14x6.\n",
    "    conv_layer_1 = tf.nn.max_pool(conv_layer_1, ksize=[1, 2, 2, 1], strides=[1, 2, 2, 1], padding='VALID')\n",
    "    \n",
    "    # TODO: Layer 2: Convolutional. Output = 10x10x16.\n",
    "    l2_weights = tf.Variable(tf.truncated_normal([5, 5, 6, 16], mean=mu, stddev=sigma))\n",
    "    l2_biases = tf.Variable(tf.zeros(16))\n",
    "    conv_layer_2 = tf.nn.conv2d(conv_layer_1, l2_weights, strides=[1, 1, 1, 1], padding='VALID')\n",
    "    conv_layer_2 = tf.nn.bias_add(conv_layer_2, l2_biases)\n",
    "        \n",
    "    # TODO: Activation.\n",
    "    conv_layer_2 = tf.nn.relu(conv_layer_2)\n",
    "    #conv_layer_2 = tf.nn.dropout(conv_layer_2, keep_prob)\n",
    "\n",
    "    # TODO: Pooling. Input = 10x10x16. Output = 5x5x16.\n",
    "    conv_layer_2 = tf.nn.max_pool(conv_layer_2, ksize=[1, 2, 2, 1], strides=[1, 2, 2, 1], padding='VALID')\n",
    "\n",
    "    # TODO: Flatten. Input = 5x5x16. Output = 400.\n",
    "    fc0 = tf.contrib.layers.flatten(conv_layer_2)\n",
    "    \n",
    "    \n",
    "    # TODO: Layer 3: Fully Connected. Input = 400. Output = 120.\n",
    "    fc1_weights = tf.Variable(tf.truncated_normal(shape=(400, 120), mean=mu, stddev=sigma))\n",
    "    fc1_biases = tf.Variable(tf.zeros(120))\n",
    "    fc1 = tf.add(tf.matmul(fc0, fc1_weights), fc1_biases)\n",
    "    \n",
    "    # TODO: Activation.\n",
    "    fc1 = tf.nn.relu(fc1)\n",
    "    fc1 = tf.nn.dropout(fc1, keep_prob)\n",
    "\n",
    "    # TODO: Layer 4: Fully Connected. Input = 120. Output = 84.\n",
    "    fc2_weights = tf.Variable(tf.truncated_normal(shape=(120, 84), mean=mu, stddev=sigma))\n",
    "    fc2_biases = tf.Variable(tf.zeros(84))\n",
    "    fc2 = tf.add(tf.matmul(fc1, fc2_weights), fc2_biases)\n",
    "    \n",
    "    # TODO: Activation.\n",
    "    fc2 = tf.nn.relu(fc2)\n",
    "    fc2 = tf.nn.dropout(fc2, keep_prob)\n",
    "\n",
    "    # TODO: Layer 5: Fully Connected. Input = 84. Output = 43.\n",
    "    out_weights = tf.Variable(tf.truncated_normal(shape=(84, 43), mean=mu, stddev=sigma))\n",
    "    out_biases = tf.Variable(tf.zeros(43))\n",
    "    logits = tf.add(tf.matmul(fc2, out_weights), out_biases)\n",
    "    \n",
    "    return logits"
   ]
  },
  {
   "cell_type": "markdown",
   "metadata": {},
   "source": [
    "### Train, Validate and Test the Model"
   ]
  },
  {
   "cell_type": "markdown",
   "metadata": {},
   "source": [
    "A validation set can be used to assess how well the model is performing. A low accuracy on the training and validation\n",
    "sets imply underfitting. A high accuracy on the training set but low accuracy on the validation set implies overfitting."
   ]
  },
  {
   "cell_type": "code",
   "execution_count": 22,
   "metadata": {},
   "outputs": [],
   "source": [
    "### Train your model here.\n",
    "### Calculate and report the accuracy on the training and validation set.\n",
    "### Once a final model architecture is selected, \n",
    "### the accuracy on the test set should be calculated and reported as well.\n",
    "### Feel free to use as many code cells as needed.\n",
    "x = tf.placeholder(tf.float32, (None, 32, 32, 3))\n",
    "y = tf.placeholder(tf.int32, (None))\n",
    "keep_prob = tf.placeholder(tf.float32)\n",
    "one_hot_y = tf.one_hot(y, 43)"
   ]
  },
  {
   "cell_type": "code",
   "execution_count": 23,
   "metadata": {},
   "outputs": [
    {
     "name": "stdout",
     "output_type": "stream",
     "text": [
      "WARNING:tensorflow:From <ipython-input-23-8609716d5245>:5: softmax_cross_entropy_with_logits (from tensorflow.python.ops.nn_ops) is deprecated and will be removed in a future version.\n",
      "Instructions for updating:\n",
      "\n",
      "Future major versions of TensorFlow will allow gradients to flow\n",
      "into the labels input on backprop by default.\n",
      "\n",
      "See `tf.nn.softmax_cross_entropy_with_logits_v2`.\n",
      "\n"
     ]
    }
   ],
   "source": [
    "# Define learning rate\n",
    "rate = 0.0005\n",
    "\n",
    "logits = LeNet(x, keep_prob)\n",
    "cross_entropy = tf.nn.softmax_cross_entropy_with_logits(labels=one_hot_y, logits=logits)\n",
    "loss_operation = tf.reduce_mean(cross_entropy)\n",
    "optimizer = tf.train.AdamOptimizer(learning_rate = rate)\n",
    "training_operation = optimizer.minimize(loss_operation)"
   ]
  },
  {
   "cell_type": "code",
   "execution_count": 24,
   "metadata": {},
   "outputs": [],
   "source": [
    "correct_prediction = tf.equal(tf.argmax(logits, 1), tf.argmax(one_hot_y, 1))\n",
    "accuracy_operation = tf.reduce_mean(tf.cast(correct_prediction, tf.float32))\n",
    "saver = tf.train.Saver()\n",
    "\n",
    "def evaluate(X_data, y_data, keep_prb):\n",
    "    num_examples = len(X_data)\n",
    "    total_accuracy = 0\n",
    "    sess = tf.get_default_session()\n",
    "    for offset in range(0, num_examples, BATCH_SIZE):\n",
    "        batch_x, batch_y = X_data[offset:offset+BATCH_SIZE], y_data[offset:offset+BATCH_SIZE]\n",
    "        accuracy = sess.run(accuracy_operation, feed_dict={x: batch_x, y: batch_y, keep_prob: keep_prb})\n",
    "        total_accuracy += (accuracy * len(batch_x))\n",
    "    return total_accuracy / num_examples"
   ]
  },
  {
   "cell_type": "code",
   "execution_count": 25,
   "metadata": {
    "scrolled": false
   },
   "outputs": [
    {
     "name": "stdout",
     "output_type": "stream",
     "text": [
      "Training...\n",
      "\n",
      "EPOCH 1 ...\n",
      "Training Accuracy = 0.768\n",
      "Validation Set Accuracy (Provided) = 0.812\n",
      "Validation Set Accuracy (Augmented) = 0.769\n",
      "\n",
      "EPOCH 2 ...\n",
      "Training Accuracy = 0.878\n",
      "Validation Set Accuracy (Provided) = 0.881\n",
      "Validation Set Accuracy (Augmented) = 0.878\n",
      "\n",
      "EPOCH 3 ...\n",
      "Training Accuracy = 0.916\n",
      "Validation Set Accuracy (Provided) = 0.915\n",
      "Validation Set Accuracy (Augmented) = 0.914\n",
      "\n",
      "EPOCH 4 ...\n",
      "Training Accuracy = 0.935\n",
      "Validation Set Accuracy (Provided) = 0.933\n",
      "Validation Set Accuracy (Augmented) = 0.932\n",
      "\n",
      "EPOCH 5 ...\n",
      "Training Accuracy = 0.952\n",
      "Validation Set Accuracy (Provided) = 0.944\n",
      "Validation Set Accuracy (Augmented) = 0.948\n",
      "\n",
      "EPOCH 6 ...\n",
      "Training Accuracy = 0.959\n",
      "Validation Set Accuracy (Provided) = 0.955\n",
      "Validation Set Accuracy (Augmented) = 0.955\n",
      "\n",
      "EPOCH 7 ...\n",
      "Training Accuracy = 0.961\n",
      "Validation Set Accuracy (Provided) = 0.946\n",
      "Validation Set Accuracy (Augmented) = 0.957\n",
      "\n",
      "EPOCH 8 ...\n",
      "Training Accuracy = 0.969\n",
      "Validation Set Accuracy (Provided) = 0.956\n",
      "Validation Set Accuracy (Augmented) = 0.964\n",
      "\n",
      "EPOCH 9 ...\n",
      "Training Accuracy = 0.972\n",
      "Validation Set Accuracy (Provided) = 0.961\n",
      "Validation Set Accuracy (Augmented) = 0.968\n",
      "\n",
      "EPOCH 10 ...\n",
      "Training Accuracy = 0.974\n",
      "Validation Set Accuracy (Provided) = 0.968\n",
      "Validation Set Accuracy (Augmented) = 0.969\n",
      "\n",
      "EPOCH 11 ...\n",
      "Training Accuracy = 0.977\n",
      "Validation Set Accuracy (Provided) = 0.960\n",
      "Validation Set Accuracy (Augmented) = 0.972\n",
      "\n",
      "EPOCH 12 ...\n",
      "Training Accuracy = 0.980\n",
      "Validation Set Accuracy (Provided) = 0.966\n",
      "Validation Set Accuracy (Augmented) = 0.974\n",
      "\n",
      "EPOCH 13 ...\n",
      "Training Accuracy = 0.980\n",
      "Validation Set Accuracy (Provided) = 0.968\n",
      "Validation Set Accuracy (Augmented) = 0.974\n",
      "\n",
      "EPOCH 14 ...\n",
      "Training Accuracy = 0.982\n",
      "Validation Set Accuracy (Provided) = 0.966\n",
      "Validation Set Accuracy (Augmented) = 0.977\n",
      "\n",
      "EPOCH 15 ...\n",
      "Training Accuracy = 0.982\n",
      "Validation Set Accuracy (Provided) = 0.972\n",
      "Validation Set Accuracy (Augmented) = 0.976\n",
      "\n",
      "EPOCH 16 ...\n",
      "Training Accuracy = 0.980\n",
      "Validation Set Accuracy (Provided) = 0.961\n",
      "Validation Set Accuracy (Augmented) = 0.974\n",
      "\n",
      "EPOCH 17 ...\n",
      "Training Accuracy = 0.983\n",
      "Validation Set Accuracy (Provided) = 0.971\n",
      "Validation Set Accuracy (Augmented) = 0.978\n",
      "\n",
      "EPOCH 18 ...\n",
      "Training Accuracy = 0.985\n",
      "Validation Set Accuracy (Provided) = 0.971\n",
      "Validation Set Accuracy (Augmented) = 0.979\n",
      "\n",
      "EPOCH 19 ...\n",
      "Training Accuracy = 0.985\n",
      "Validation Set Accuracy (Provided) = 0.972\n",
      "Validation Set Accuracy (Augmented) = 0.979\n",
      "\n",
      "EPOCH 20 ...\n",
      "Training Accuracy = 0.986\n",
      "Validation Set Accuracy (Provided) = 0.973\n",
      "Validation Set Accuracy (Augmented) = 0.980\n",
      "\n",
      "EPOCH 21 ...\n",
      "Training Accuracy = 0.986\n",
      "Validation Set Accuracy (Provided) = 0.973\n",
      "Validation Set Accuracy (Augmented) = 0.981\n",
      "\n",
      "EPOCH 22 ...\n",
      "Training Accuracy = 0.985\n",
      "Validation Set Accuracy (Provided) = 0.972\n",
      "Validation Set Accuracy (Augmented) = 0.979\n",
      "\n",
      "EPOCH 23 ...\n",
      "Training Accuracy = 0.989\n",
      "Validation Set Accuracy (Provided) = 0.978\n",
      "Validation Set Accuracy (Augmented) = 0.983\n",
      "\n",
      "EPOCH 24 ...\n",
      "Training Accuracy = 0.988\n",
      "Validation Set Accuracy (Provided) = 0.974\n",
      "Validation Set Accuracy (Augmented) = 0.982\n",
      "\n",
      "EPOCH 25 ...\n",
      "Training Accuracy = 0.989\n",
      "Validation Set Accuracy (Provided) = 0.977\n",
      "Validation Set Accuracy (Augmented) = 0.982\n",
      "\n",
      "EPOCH 26 ...\n",
      "Training Accuracy = 0.989\n",
      "Validation Set Accuracy (Provided) = 0.976\n",
      "Validation Set Accuracy (Augmented) = 0.983\n",
      "\n",
      "EPOCH 27 ...\n",
      "Training Accuracy = 0.990\n",
      "Validation Set Accuracy (Provided) = 0.978\n",
      "Validation Set Accuracy (Augmented) = 0.984\n",
      "\n",
      "EPOCH 28 ...\n",
      "Training Accuracy = 0.991\n",
      "Validation Set Accuracy (Provided) = 0.978\n",
      "Validation Set Accuracy (Augmented) = 0.985\n",
      "\n",
      "EPOCH 29 ...\n",
      "Training Accuracy = 0.991\n",
      "Validation Set Accuracy (Provided) = 0.973\n",
      "Validation Set Accuracy (Augmented) = 0.985\n",
      "\n",
      "EPOCH 30 ...\n",
      "Training Accuracy = 0.991\n",
      "Validation Set Accuracy (Provided) = 0.975\n",
      "Validation Set Accuracy (Augmented) = 0.985\n",
      "\n",
      "Model saved\n"
     ]
    }
   ],
   "source": [
    "from sklearn.utils import shuffle\n",
    "\n",
    "with tf.Session() as sess:\n",
    "    sess.run(tf.global_variables_initializer())\n",
    "    num_examples = len(X_train_augmented_norm)\n",
    "    training_keep_prob = 0.5\n",
    "    testing_keep_prob = 1.0\n",
    "    \n",
    "    print(\"Training...\")\n",
    "    print()\n",
    "    for i in range(EPOCHS):\n",
    "        #X_train_vals, y_train_vals = shuffle(X_train_norm, y_train)\n",
    "        X_train_vals, y_train_vals = shuffle(X_train_augmented_norm, y_train_augmented)\n",
    "        \n",
    "        for offset in range(0, num_examples, BATCH_SIZE):\n",
    "            end = offset + BATCH_SIZE\n",
    "            batch_x, batch_y = X_train_vals[offset:end], y_train_vals[offset:end]\n",
    "            sess.run(training_operation, feed_dict={x: batch_x, y: batch_y, keep_prob: training_keep_prob})\n",
    "            \n",
    "        validation_accuracy = evaluate(X_valid_norm, y_valid, testing_keep_prob)\n",
    "        #validation_accuracy = evaluate(X_valid_gray_norm, y_valid)\n",
    "        #validation_accuracy2 = evaluate(X_validation_norm, y_validation)\n",
    "        training_accuracy = evaluate(X_train_augmented_norm, y_train_augmented, testing_keep_prob)\n",
    "        validation_accuracy2 = evaluate(X_validation_norm, y_validation, testing_keep_prob)\n",
    "        #validation_accuracy3 = evaluate(X_valid2, y_valid2)\n",
    "        print(\"EPOCH {} ...\".format(i+1))\n",
    "        \n",
    "        print(\"Training Accuracy = {:.3f}\".format(training_accuracy))\n",
    "        print(\"Validation Set Accuracy (Provided) = {:.3f}\".format(validation_accuracy))\n",
    "        print(\"Validation Set Accuracy (Augmented) = {:.3f}\".format(validation_accuracy2))\n",
    "        #print(\"Validation Accuracy 3 = {:.3f}\".format(validation_accuracy3))\n",
    "        print()\n",
    "        \n",
    "    saver.save(sess, './lenet')\n",
    "    print(\"Model saved\")"
   ]
  },
  {
   "cell_type": "code",
   "execution_count": 26,
   "metadata": {},
   "outputs": [
    {
     "name": "stdout",
     "output_type": "stream",
     "text": [
      "INFO:tensorflow:Restoring parameters from ./lenet\n",
      "Test set accuracy: 0.960\n"
     ]
    }
   ],
   "source": [
    "# Evaluate the model on the test dataset\n",
    "\n",
    "with tf.Session() as sess:\n",
    "    sess.run(tf.global_variables_initializer())\n",
    "    saver.restore(sess, \"./lenet\")\n",
    "    test_set_accuracy = evaluate(X_test_norm, y_test, 1.0)\n",
    "    #test_set_accuracy = evaluate(X_test_gray_norm, y_test)\n",
    "    print(\"Test set accuracy: {:.3f}\".format(test_set_accuracy))"
   ]
  },
  {
   "cell_type": "markdown",
   "metadata": {},
   "source": [
    "---\n",
    "\n",
    "## Step 3: Test a Model on New Images\n",
    "\n",
    "To give yourself more insight into how your model is working, download at least five pictures of German traffic signs from the web and use your model to predict the traffic sign type.\n",
    "\n",
    "You may find `signnames.csv` useful as it contains mappings from the class id (integer) to the actual sign name."
   ]
  },
  {
   "cell_type": "markdown",
   "metadata": {},
   "source": [
    "### Load and Output the Images"
   ]
  },
  {
   "cell_type": "code",
   "execution_count": 27,
   "metadata": {},
   "outputs": [
    {
     "name": "stdout",
     "output_type": "stream",
     "text": [
      "\n",
      "Imported images array shape: (5, 32, 32, 3)\n",
      "\n",
      "Label: 18 (General caution)\n"
     ]
    },
    {
     "data": {
      "image/png": "[encoded data removed]",
      "text/plain": [
       "<Figure size 432x288 with 1 Axes>"
      ]
     },
     "metadata": {
      "needs_background": "light"
     },
     "output_type": "display_data"
    }
   ],
   "source": [
    "### Load the images and plot them here.\n",
    "### Feel free to use as many code cells as needed.\n",
    "import os, glob\n",
    "import matplotlib.pyplot as plt\n",
    "import matplotlib.image as mpimg\n",
    "\n",
    "new_images = sorted(glob.glob('./test_images/*32x32.jpg'))\n",
    "#print(new_images)\n",
    "new_labels = np.array([21, 18, 40, 33, 13])\n",
    "\n",
    "# Import all images into array\n",
    "img_array = []\n",
    "for img_file in new_images:\n",
    "    img = mpimg.imread(img_file)\n",
    "    img_array.append(img)\n",
    "\n",
    "img_array = np.array(img_array)\n",
    "print()\n",
    "print(\"Imported images array shape: {}\".format(img_array.shape))\n",
    "\n",
    "idx = 1\n",
    "plt.imshow(img_array[idx])\n",
    "print()\n",
    "print(\"Label: {} ({})\".format(new_labels[idx], sign_names[new_labels[idx]]))"
   ]
  },
  {
   "cell_type": "markdown",
   "metadata": {},
   "source": [
    "### Predict the Sign Type for Each Image"
   ]
  },
  {
   "cell_type": "code",
   "execution_count": 28,
   "metadata": {},
   "outputs": [],
   "source": [
    "### Run the predictions here and use the model to output the prediction for each image.\n",
    "### Make sure to pre-process the images with the same pre-processing pipeline used earlier.\n",
    "### Feel free to use as many code cells as needed."
   ]
  },
  {
   "cell_type": "code",
   "execution_count": 29,
   "metadata": {},
   "outputs": [],
   "source": [
    "# Normalize the imported images\n",
    "new_images_norm = normalize_images(img_array)"
   ]
  },
  {
   "cell_type": "markdown",
   "metadata": {},
   "source": [
    "### Analyze Performance"
   ]
  },
  {
   "cell_type": "code",
   "execution_count": 30,
   "metadata": {},
   "outputs": [
    {
     "name": "stdout",
     "output_type": "stream",
     "text": [
      "INFO:tensorflow:Restoring parameters from ./lenet\n",
      "New image classification accuracy: 0.800\n"
     ]
    }
   ],
   "source": [
    "### Calculate the accuracy for these 5 new images. \n",
    "### For example, if the model predicted 1 out of 5 signs correctly, it's 20% accurate on these new images.\n",
    "with tf.Session() as sess:\n",
    "    #sess.run(tf.global_variables_initializer())\n",
    "    saver.restore(sess, \"./lenet\")\n",
    "    new_accuracy = evaluate(new_images_norm, new_labels, 1.0)\n",
    "    print(\"New image classification accuracy: {:.3f}\".format(new_accuracy))"
   ]
  },
  {
   "cell_type": "code",
   "execution_count": 31,
   "metadata": {},
   "outputs": [
    {
     "name": "stdout",
     "output_type": "stream",
     "text": [
      "INFO:tensorflow:Restoring parameters from ./lenet\n",
      "Image 1 classification accuracy: 0.000\n",
      "Image 2 classification accuracy: 1.000\n",
      "Image 3 classification accuracy: 1.000\n",
      "Image 4 classification accuracy: 1.000\n",
      "Image 5 classification accuracy: 1.000\n"
     ]
    }
   ],
   "source": [
    "softmax = []\n",
    "with tf.Session() as sess:\n",
    "    #sess.run(tf.global_variables_initializer())\n",
    "    saver.restore(sess, \"./lenet\")\n",
    "        \n",
    "    for i in range(new_images_norm.shape[0]):\n",
    "        current_image = []\n",
    "        current_image.append(new_images_norm[i])\n",
    "        current_image = np.array(current_image)\n",
    "        current_image_label = []\n",
    "        current_image_label.append(new_labels[i])\n",
    "        current_image_label = np.array(current_image_label)        \n",
    "        \n",
    "        new_accuracy = evaluate(current_image, current_image_label, 1.0)\n",
    "        print(\"Image {:d} classification accuracy: {:.3f}\".format(i+1, new_accuracy))"
   ]
  },
  {
   "cell_type": "code",
   "execution_count": null,
   "metadata": {},
   "outputs": [],
   "source": []
  },
  {
   "cell_type": "markdown",
   "metadata": {},
   "source": [
    "### Output Top 5 Softmax Probabilities For Each Image Found on the Web"
   ]
  },
  {
   "cell_type": "markdown",
   "metadata": {},
   "source": [
    "For each of the new images, print out the model's softmax probabilities to show the **certainty** of the model's predictions (limit the output to the top 5 probabilities for each image). [`tf.nn.top_k`](https://www.tensorflow.org/versions/r0.12/api_docs/python/nn.html#top_k) could prove helpful here. \n",
    "\n",
    "The example below demonstrates how tf.nn.top_k can be used to find the top k predictions for each image.\n",
    "\n",
    "`tf.nn.top_k` will return the values and indices (class ids) of the top k predictions. So if k=3, for each sign, it'll return the 3 largest probabilities (out of a possible 43) and the correspoding class ids.\n",
    "\n",
    "Take this numpy array as an example. The values in the array represent predictions. The array contains softmax probabilities for five candidate images with six possible classes. `tf.nn.top_k` is used to choose the three classes with the highest probability:\n",
    "\n",
    "```\n",
    "# (5, 6) array\n",
    "a = np.array([[ 0.24879643,  0.07032244,  0.12641572,  0.34763842,  0.07893497,\n",
    "         0.12789202],\n",
    "       [ 0.28086119,  0.27569815,  0.08594638,  0.0178669 ,  0.18063401,\n",
    "         0.15899337],\n",
    "       [ 0.26076848,  0.23664738,  0.08020603,  0.07001922,  0.1134371 ,\n",
    "         0.23892179],\n",
    "       [ 0.11943333,  0.29198961,  0.02605103,  0.26234032,  0.1351348 ,\n",
    "         0.16505091],\n",
    "       [ 0.09561176,  0.34396535,  0.0643941 ,  0.16240774,  0.24206137,\n",
    "         0.09155967]])\n",
    "```\n",
    "\n",
    "Running it through `sess.run(tf.nn.top_k(tf.constant(a), k=3))` produces:\n",
    "\n",
    "```\n",
    "TopKV2(values=array([[ 0.34763842,  0.24879643,  0.12789202],\n",
    "       [ 0.28086119,  0.27569815,  0.18063401],\n",
    "       [ 0.26076848,  0.23892179,  0.23664738],\n",
    "       [ 0.29198961,  0.26234032,  0.16505091],\n",
    "       [ 0.34396535,  0.24206137,  0.16240774]]), indices=array([[3, 0, 5],\n",
    "       [0, 1, 4],\n",
    "       [0, 5, 1],\n",
    "       [1, 3, 5],\n",
    "       [1, 4, 3]], dtype=int32))\n",
    "```\n",
    "\n",
    "Looking just at the first row we get `[ 0.34763842,  0.24879643,  0.12789202]`, you can confirm these are the 3 largest probabilities in `a`. You'll also notice `[3, 0, 5]` are the corresponding indices."
   ]
  },
  {
   "cell_type": "code",
   "execution_count": 32,
   "metadata": {},
   "outputs": [],
   "source": [
    "### Print out the top five softmax probabilities for the predictions on the German traffic sign images found on the web. \n",
    "### Feel free to use as many code cells as needed."
   ]
  },
  {
   "cell_type": "code",
   "execution_count": 33,
   "metadata": {},
   "outputs": [
    {
     "name": "stdout",
     "output_type": "stream",
     "text": [
      "INFO:tensorflow:Restoring parameters from ./lenet\n",
      "\n",
      "Image 1: Actual - Double curve, Predicted - Beware of ice/snow (76.926%)\n",
      "         Top 5 Softmax Probabilities and Labels:\n",
      "          1: Beware of ice/snow (30) - 0.76926\n",
      "          2: Children crossing (28) - 0.23069\n",
      "          3: Slippery road (23) - 0.00004\n",
      "          4: Right-of-way at the next intersection (11) - 0.00001\n",
      "          5: Road narrows on the right (24) - 0.00000\n",
      "\n",
      "Image 2: Actual - General caution, Predicted - General caution (100.000%)\n",
      "         Top 5 Softmax Probabilities and Labels:\n",
      "          1: General caution (18) - 1.00000\n",
      "          2: Traffic signals (26) - 0.00000\n",
      "          3: Pedestrians (27) - 0.00000\n",
      "          4: Speed limit (20km/h) (0) - 0.00000\n",
      "          5: Speed limit (30km/h) (1) - 0.00000\n",
      "\n",
      "Image 3: Actual - Roundabout mandatory, Predicted - Roundabout mandatory (96.047%)\n",
      "         Top 5 Softmax Probabilities and Labels:\n",
      "          1: Roundabout mandatory (40) - 0.96047\n",
      "          2: Priority road (12) - 0.03953\n",
      "          3: Keep right (38) - 0.00000\n",
      "          4: Keep left (39) - 0.00000\n",
      "          5: Stop (14) - 0.00000\n",
      "\n",
      "Image 4: Actual - Turn right ahead, Predicted - Turn right ahead (100.000%)\n",
      "         Top 5 Softmax Probabilities and Labels:\n",
      "          1: Turn right ahead (33) - 1.00000\n",
      "          2: Ahead only (35) - 0.00000\n",
      "          3: Vehicles over 3.5 metric tons prohibited (16) - 0.00000\n",
      "          4: Roundabout mandatory (40) - 0.00000\n",
      "          5: No passing for vehicles over 3.5 metric tons (10) - 0.00000\n",
      "\n",
      "Image 5: Actual - Yield, Predicted - Yield (100.000%)\n",
      "         Top 5 Softmax Probabilities and Labels:\n",
      "          1: Yield (13) - 1.00000\n",
      "          2: Speed limit (20km/h) (0) - 0.00000\n",
      "          3: Speed limit (30km/h) (1) - 0.00000\n",
      "          4: Speed limit (50km/h) (2) - 0.00000\n",
      "          5: Speed limit (60km/h) (3) - 0.00000\n",
      "\n"
     ]
    }
   ],
   "source": [
    "softmax_logits = tf.nn.softmax(logits)\n",
    "top_k_logits = tf.nn.top_k(softmax_logits, k=5)\n",
    "\n",
    "with tf.Session() as sess:\n",
    "    sess.run(tf.global_variables_initializer())\n",
    "    saver.restore(sess, './lenet')\n",
    "    new_img_softmax_logits = sess.run(softmax_logits, feed_dict={x: new_images_norm, keep_prob: 1.0})\n",
    "    new_img_top_k = sess.run(top_k_logits, feed_dict={x: new_images_norm, keep_prob: 1.0})\n",
    "    \n",
    "    #print(new_img_softmax_logits)\n",
    "    #print(new_img_top_k)\n",
    "    print()\n",
    "    for i in range(len(new_images_norm)):\n",
    "        print(\"Image {}: Actual - {}, Predicted - {} ({:.3f}%)\".format(i+1, sign_names[new_labels[i]], sign_names[new_img_top_k.indices[i][0]], new_img_top_k.values[i][0] * 100))\n",
    "        print(\"         Top 5 Softmax Probabilities and Labels:\")\n",
    "        for j in range(5):\n",
    "            print(\"          {}: {} ({}) - {:.5f}\".format(j+1, sign_names[new_img_top_k.indices[i][j]], new_img_top_k.indices[i][j], new_img_top_k.values[i][j]))\n",
    "        print(\"\")"
   ]
  },
  {
   "cell_type": "markdown",
   "metadata": {},
   "source": [
    "### Project Writeup\n",
    "\n",
    "Once you have completed the code implementation, document your results in a project writeup using this [template](https://github.com/udacity/CarND-Traffic-Sign-Classifier-Project/blob/master/writeup_template.md) as a guide. The writeup can be in a markdown or pdf file. "
   ]
  },
  {
   "cell_type": "markdown",
   "metadata": {},
   "source": [
    "> **Note**: Once you have completed all of the code implementations and successfully answered each question above, you may finalize your work by exporting the iPython Notebook as an HTML document. You can do this by using the menu above and navigating to  \\n\",\n",
    "    \"**File -> Download as -> HTML (.html)**. Include the finished document along with this notebook as your submission."
   ]
  },
  {
   "cell_type": "markdown",
   "metadata": {},
   "source": [
    "---\n",
    "\n",
    "## Step 4 (Optional): Visualize the Neural Network's State with Test Images\n",
    "\n",
    " This Section is not required to complete but acts as an additional excersise for understaning the output of a neural network's weights. While neural networks can be a great learning device they are often referred to as a black box. We can understand what the weights of a neural network look like better by plotting their feature maps. After successfully training your neural network you can see what it's feature maps look like by plotting the output of the network's weight layers in response to a test stimuli image. From these plotted feature maps, it's possible to see what characteristics of an image the network finds interesting. For a sign, maybe the inner network feature maps react with high activation to the sign's boundary outline or to the contrast in the sign's painted symbol.\n",
    "\n",
    " Provided for you below is the function code that allows you to get the visualization output of any tensorflow weight layer you want. The inputs to the function should be a stimuli image, one used during training or a new one you provided, and then the tensorflow variable name that represents the layer's state during the training process, for instance if you wanted to see what the [LeNet lab's](https://classroom.udacity.com/nanodegrees/nd013/parts/fbf77062-5703-404e-b60c-95b78b2f3f9e/modules/6df7ae49-c61c-4bb2-a23e-6527e69209ec/lessons/601ae704-1035-4287-8b11-e2c2716217ad/concepts/d4aca031-508f-4e0b-b493-e7b706120f81) feature maps looked like for it's second convolutional layer you could enter conv2 as the tf_activation variable.\n",
    "\n",
    "For an example of what feature map outputs look like, check out NVIDIA's results in their paper [End-to-End Deep Learning for Self-Driving Cars](https://devblogs.nvidia.com/parallelforall/deep-learning-self-driving-cars/) in the section Visualization of internal CNN State. NVIDIA was able to show that their network's inner weights had high activations to road boundary lines by comparing feature maps from an image with a clear path to one without. Try experimenting with a similar test to show that your trained network's weights are looking for interesting features, whether it's looking at differences in feature maps from images with or without a sign, or even what feature maps look like in a trained network vs a completely untrained one on the same sign image.\n",
    "\n",
    "<figure>\n",
    " <img src=\"visualize_cnn.png\" width=\"380\" alt=\"Combined Image\" />\n",
    " <figcaption>\n",
    " <p></p> \n",
    " <p style=\"text-align: center;\"> Your output should look something like this (above)</p> \n",
    " </figcaption>\n",
    "</figure>\n",
    " <p></p> \n"
   ]
  },
  {
   "cell_type": "code",
   "execution_count": 34,
   "metadata": {},
   "outputs": [],
   "source": [
    "### Visualize your network's feature maps here.\n",
    "### Feel free to use as many code cells as needed.\n",
    "\n",
    "# image_input: the test image being fed into the network to produce the feature maps\n",
    "# tf_activation: should be a tf variable name used during your training procedure that represents the calculated state of a specific weight layer\n",
    "# activation_min/max: can be used to view the activation contrast in more detail, by default matplot sets min and max to the actual min and max values of the output\n",
    "# plt_num: used to plot out multiple different weight feature map sets on the same block, just extend the plt number for each new feature map entry\n",
    "\n",
    "def outputFeatureMap(image_input, tf_activation, activation_min=-1, activation_max=-1 ,plt_num=1):\n",
    "    # Here make sure to preprocess your image_input in a way your network expects\n",
    "    # with size, normalization, ect if needed\n",
    "    # image_input =\n",
    "    # Note: x should be the same name as your network's tensorflow data placeholder variable\n",
    "    # If you get an error tf_activation is not defined it may be having trouble accessing the variable from inside a function\n",
    "    activation = tf_activation.eval(session=sess,feed_dict={x : image_input})\n",
    "    featuremaps = activation.shape[3]\n",
    "    plt.figure(plt_num, figsize=(15,15))\n",
    "    for featuremap in range(featuremaps):\n",
    "        plt.subplot(6,8, featuremap+1) # sets the number of feature maps to show on each row and column\n",
    "        plt.title('FeatureMap ' + str(featuremap)) # displays the feature map number\n",
    "        if activation_min != -1 & activation_max != -1:\n",
    "            plt.imshow(activation[0,:,:, featuremap], interpolation=\"nearest\", vmin =activation_min, vmax=activation_max, cmap=\"gray\")\n",
    "        elif activation_max != -1:\n",
    "            plt.imshow(activation[0,:,:, featuremap], interpolation=\"nearest\", vmax=activation_max, cmap=\"gray\")\n",
    "        elif activation_min !=-1:\n",
    "            plt.imshow(activation[0,:,:, featuremap], interpolation=\"nearest\", vmin=activation_min, cmap=\"gray\")\n",
    "        else:\n",
    "            plt.imshow(activation[0,:,:, featuremap], interpolation=\"nearest\", cmap=\"gray\")"
   ]
  }
 ],
 "metadata": {
  "anaconda-cloud": {},
  "kernelspec": {
   "display_name": "Python 3",
   "language": "python",
   "name": "python3"
  },
  "language_info": {
   "codemirror_mode": {
    "name": "ipython",
    "version": 3
   },
   "file_extension": ".py",
   "mimetype": "text/x-python",
   "name": "python",
   "nbconvert_exporter": "python",
   "pygments_lexer": "ipython3",
   "version": "3.6.7"
  }
 },
 "nbformat": 4,
 "nbformat_minor": 1
}
